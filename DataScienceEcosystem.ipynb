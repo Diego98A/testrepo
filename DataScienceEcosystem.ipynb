{
 "cells": [
  {
   "cell_type": "markdown",
   "metadata": {},
   "source": [
    "<center>\n",
    "    <img src=\"https://cf-courses-data.s3.us.cloud-object-storage.appdomain.cloud/IBMDeveloperSkillsNetwork-DS0105EN-SkillsNetwork/labs/Module2/images/SN_web_lightmode.png\" width=\"300\" alt=\"cognitiveclass.ai logo\">\n",
    "</center>\n"
   ]
  },
  {
   "cell_type": "markdown",
   "metadata": {},
   "source": [
    "#### Add your code below following the instructions given in the course\n"
   ]
  },
  {
   "cell_type": "markdown",
   "metadata": {},
   "source": [
    "# Data Science Tools and Ecosystems"
   ]
  },
  {
   "cell_type": "markdown",
   "metadata": {},
   "source": [
    "## Author\n",
    "\n",
    " Diego Alfonzo Pérez Carmona"
   ]
  },
  {
   "cell_type": "markdown",
   "metadata": {},
   "source": [
    "### In this Jupyter Notebook we will present and summarize the Data Science Tools and Ecosystems"
   ]
  },
  {
   "cell_type": "markdown",
   "metadata": {},
   "source": [
    "__Objectives__:\n",
    "\n",
    "<ul>\n",
    "  <li>List of some programming languages for data science</li>\n",
    "  <li>List of some used libraries for data science</li>\n",
    "  <li>List of some Data Science Tools</li>\n",
    "  <li>Make some simple arithmetic expressions</li>\n",
    "  <li>Convert minutes into hours</li>\n",
    "</ul>"
   ]
  },
  {
   "cell_type": "markdown",
   "metadata": {},
   "source": [
    "#### Here we present some of the most data programming languages for data science:\n",
    "\n",
    "<ol>\n",
    "  <li>Python</li>\n",
    "  <li>R</li>\n",
    "  <li>SQL</li>\n",
    "  <li>JavaScript</li>\n",
    "  <li>Julia</li>\n",
    "  <li>Java</li>\n",
    "  <li>C</li>\n",
    "</ol>\n"
   ]
  },
  {
   "cell_type": "markdown",
   "metadata": {},
   "source": [
    "#### Here we present some of the most used libraries for data science:\n",
    "\n",
    "<ol>\n",
    "  <li>Pandas</li>\n",
    "  <li>Numpy</li>\n",
    "  <li>Matplotlib</li>\n",
    "  <li>GGally</li>\n",
    "  <li>Keras</li>\n",
    "  <li>TensorFlow</li>\n",
    "  <li>Caffe</li>\n",
    "  <li>PyTorch</li>\n",
    "</ol>"
   ]
  },
  {
   "cell_type": "markdown",
   "metadata": {},
   "source": [
    "#### Here we present some Data Science Tools\n",
    "\n",
    "|Data Science Tool|\n",
    "|-----------------|\n",
    "|IBM SPSS Modeler|\n",
    "|SPSS Statistics|\n",
    "|KubeFlow|\n",
    "|AutoAI|\n",
    "|Watson OpenScale|\n",
    "|Watson Knowledge Catalogs|"
   ]
  },
  {
   "cell_type": "markdown",
   "metadata": {},
   "source": [
    "### In the next cells there are a few examples of arithmetic expressions in Python"
   ]
  },
  {
   "cell_type": "code",
   "execution_count": 8,
   "metadata": {},
   "outputs": [
    {
     "name": "stdout",
     "output_type": "stream",
     "text": [
      "23\n",
      "90.0171313005218\n"
     ]
    }
   ],
   "source": [
    "import numpy as np\n",
    "\n",
    "#A simple cuadratic calculation\n",
    "\n",
    "y = 5*2**2 + 3\n",
    "\n",
    "print(y)\n",
    "\n",
    "#An exponential\n",
    "\n",
    "def exp(x):\n",
    "    exp = np.e**(0.5*x**2)\n",
    "    return exp\n",
    "\n",
    "y2 = exp(3)\n",
    "print(y2)\n"
   ]
  },
  {
   "cell_type": "markdown",
   "metadata": {},
   "source": [
    "#### In the next cell there is a code which converts minutes into hours"
   ]
  },
  {
   "cell_type": "code",
   "execution_count": 7,
   "metadata": {},
   "outputs": [
    {
     "name": "stdout",
     "output_type": "stream",
     "text": [
      "200 minutes are equivalent to 3.333 hours\n"
     ]
    }
   ],
   "source": [
    "t1 = 200 #minutes\n",
    "\n",
    "def T(t):\n",
    "    T = t/60 #One hour contains 60 minutes\n",
    "    return T\n",
    "\n",
    "Z = T(t1)\n",
    "print(\"200 minutes are equivalent to %.3f hours\" % Z)"
   ]
  },
  {
   "cell_type": "code",
   "execution_count": null,
   "metadata": {},
   "outputs": [],
   "source": []
  }
 ],
 "metadata": {
  "kernelspec": {
   "display_name": "Python 3",
   "language": "python",
   "name": "python3"
  },
  "language_info": {
   "codemirror_mode": {
    "name": "ipython",
    "version": 3
   },
   "file_extension": ".py",
   "mimetype": "text/x-python",
   "name": "python",
   "nbconvert_exporter": "python",
   "pygments_lexer": "ipython3",
   "version": "3.7.3"
  }
 },
 "nbformat": 4,
 "nbformat_minor": 4
}
